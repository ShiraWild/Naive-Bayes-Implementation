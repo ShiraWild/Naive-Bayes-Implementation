{
  "nbformat": 4,
  "nbformat_minor": 0,
  "metadata": {
    "colab": {
      "provenance": []
    },
    "kernelspec": {
      "display_name": "Python 3",
      "language": "python",
      "name": "python3"
    },
    "language_info": {
      "codemirror_mode": {
        "name": "ipython",
        "version": 3
      },
      "file_extension": ".py",
      "mimetype": "text/x-python",
      "name": "python",
      "nbconvert_exporter": "python",
      "pygments_lexer": "ipython3",
      "version": "3.7.6"
    }
  },
  "cells": [
    {
      "cell_type": "markdown",
      "metadata": {
        "id": "Uq_3t_tluNmU"
      },
      "source": [
        "# Naive Bayes"
      ]
    },
    {
      "cell_type": "markdown",
      "metadata": {
        "id": "TQVMUZkQHlm2"
      },
      "source": [
        "## 1. Classifying Digits\n",
        "In this part we will test digits classification on the MNIST dataset, using Bernoulli Naive Bayes (a generative model), in contrast to the Multivariate Logistic Regression (a discriminative model) we used before.\n",
        "\n",
        "The MNIST dataset contains 28x28 grayscale images of handwritten digits between 0 and 9 (10 classes). For mathmatical analysis clarity, and for matching expected API, each image faltten to create a 1D array with 784 elements."
      ]
    },
    {
      "cell_type": "markdown",
      "metadata": {
        "id": "Cjwjk6pzLE-y"
      },
      "source": [
        "### Loading the MNIST dataset\n",
        "Load the MNIST data set. The digits dataset is one of datasets scikit-learn comes with that do not require the downloading of any file from some external website. Use \n",
        "```\n",
        "mnist = sklearn.datasets.fetch_mldata('MNIST original')\n",
        "```\n",
        "to fetch the original data. You may set the `data_home` to where you wish to download your data for caching. Each image is already transformed into a 1D integer array $x\\in [0,255]^{784}$, and the corresponding label is an integer $y\\in [0,9]$.\n",
        "\n",
        "Plot a single sample of each digit as the original image, so you get a feeling how the data looks like.\n",
        "\n",
        "Finally, divide your data into train and test sets, using 1/7 of the data for testing.\n",
        "\n",
        "---\n",
        "**Note 1:** Using `digits = sklearn.datasets.load_digits()` will only fetch a very small sample of the original set, with images resized to 8x8. This preprocessing of the data reduces dimensionality and gives invariance to small distortions - however, we will use the original data in this exercise. Feel free to test the proformance of the algorithms below on the preprocessed data as well.\n",
        "\n",
        "**Note 2:**\n",
        "Since ML-Data is deprecated, you may wish to use something like this:\n",
        ">```\n",
        "from keras.datasets import mnist\n",
        "(x_train, y_train), (x_test, y_test) = mnist.load_data()\n",
        "x_train = x_train.reshape(x_train.shape[0], 784)\n",
        "x_test = x_test.reshape(x_test.shape[0], 784)\n",
        "```"
      ]
    },
    {
      "cell_type": "code",
      "metadata": {
        "colab": {
          "base_uri": "https://localhost:8080/",
          "height": 268
        },
        "id": "05Om0QLxBvvT",
        "outputId": "c780007d-c881-48ed-f6d4-fac25e381652"
      },
      "source": [
        "from keras.datasets import mnist\n",
        "from matplotlib import pyplot\n",
        "import numpy as np \n",
        "\n",
        "# Load the MNIST data set and divide it to train and test\n",
        "# Extract the labels and the data for train and for test part\n",
        "\n",
        "(x_train, y_train), (x_test, y_test) = mnist.load_data()\n",
        "\n",
        "\n",
        "# Plot first few images\n",
        "for i in range(9):\n",
        "\t# define subplot\n",
        "\tpyplot.subplot(330 + 1 + i)\n",
        "\t# plot raw pixel data\n",
        "\tpyplot.imshow(x_train[i], cmap=pyplot.get_cmap('gray'))\n",
        "# show the figure\n",
        "pyplot.show()\n",
        "\n"
      ],
      "execution_count": null,
      "outputs": [
        {
          "output_type": "display_data",
          "data": {
            "image/png": "[encoded data removed]",
            "text/plain": [
              "<Figure size 432x288 with 9 Axes>"
            ]
          },
          "metadata": {
            "needs_background": "light"
          }
        }
      ]
    },
    {
      "cell_type": "markdown",
      "metadata": {
        "id": "WTGjjSKaFfE6"
      },
      "source": [
        "### Bernoulli Naive Bayes\n",
        "If we know how the digits are generated, then we know how to classify them (simply choose the digit class which will maximize the posterior probability) --- but which model should we use for describing the digits generation?\n",
        "\n",
        "In this part we will try a very simplified model of digits creation (which is obviously not the same as the \"real\" model), using a Naive Bayes over an underlying Bernoulli distribution --- that is, we will assume that given a digit class, the pixels of the images are the result of independent coin flips, each with its own \"head\" probability.\n",
        "\n",
        "Note that since we assume each pixl is either 0 (black) or 1 (white), we will need to adjust (preprocess) our data accrodingly (see below).\n",
        "\n",
        "So, the model is stated as follows:\n",
        "$$\n",
        "\\begin{align}\n",
        "\\text{Domain} && x \\in \\{0,1\\}^{784} \\\\\n",
        "\\text{Prior} && \\pi_j = \\Pr(y=j) \\\\\n",
        "\\text{Likelihood} && P_j(x) = \\Pr(x | y=j) \\\\\n",
        "\\end{align}\n",
        "$$\n",
        "\n",
        "Where for each $i\\in 0\\ldots 784$ it holds that\n",
        "$$\n",
        "P_{ji}(x_i) = \\Pr(x_i | y=j) =\n",
        "\\begin{cases}\n",
        "p_{ji} & \\text{if } x_i=1 \\\\\n",
        "1-p_{ji} & \\text{if } x_i=0 \\\\\n",
        "\\end{cases}\n",
        "$$\n"
      ]
    },
    {
      "cell_type": "markdown",
      "metadata": {
        "id": "WNjhD3IpL5bC"
      },
      "source": [
        "#### Question 1\n",
        "Write the classification rule based on this Naive Bayes model. \n",
        "How would you esitmate each of the parameters of the model based on the trainning data? \n",
        "Describe in text (preferably math notationns) the classification rule, and explain.\n",
        "\n",
        "**Bonus:** Think of edge cases which may effect your estimator in an undesired way."
      ]
    },
    {
      "cell_type": "markdown",
      "metadata": {
        "id": "0pN1prGcMqwZ"
      },
      "source": [
        "#### Answer 1\n",
        " \n",
        " ![picture](https://drive.google.com/uc?export=view&id=16AlGA5NCT3johoxJvCFEBCpB9w8LiawF)"
      ]
    },
    {
      "cell_type": "markdown",
      "metadata": {
        "id": "nOnkgDIXTMCQ"
      },
      "source": [
        "#### Question 2\n",
        "Run a Naive Bayes classifier on the training data and apply predictions on the test data. Use the [sklearn.naive_bayes.BernoulliNB](http://scikit-learn.org/stable/modules/generated/sklearn.naive_bayes.BernoulliNB.html) implementation (see the [source code for sklearn.naive_bayes](https://github.com/scikit-learn/scikit-learn/blob/master/sklearn/naive_bayes.py) for details).\n",
        "\n",
        "Remember we need to preprocess the data in this case such that each pixel would become either black (0) or white (1). For this, use the `binarize` parameter of the implementation. Set this value to $0$ (this is the default), which in this case would mean every pixel with non-zero value will be set to 1.\n",
        "\n",
        "1. Plot the mean image of each class (estimated $\\hat{p}_{ji}$) and generate one sample of each class (remember, you can do this since this is a generative model). You will need to access the `feature_log_prob_` attribute of the trained model.\n",
        "\n",
        "2. Plot the confusion matrix of your classifier, as claculated on the test data (it is recommended to use [sklearn.metrics.confusion_matrix](http://scikit-learn.org/stable/modules/generated/sklearn.metrics.confusion_matrix.html)). Calculate the total accuracy (fraction of correctly classified images), and summarize the results in your own words.\n",
        "\n",
        "3. Think of a way you can find the optimal threshold of the binarization part. **There is no need to actually perform this task --- just describe what you would have done.**\n"
      ]
    },
    {
      "cell_type": "code",
      "metadata": {
        "colab": {
          "base_uri": "https://localhost:8080/",
          "height": 160
        },
        "id": "XalqjRWXWS-Y",
        "outputId": "09b26a65-ee86-41b7-acfd-1009e7de50d4"
      },
      "source": [
        "from sklearn.naive_bayes import BernoulliNB\n",
        "from matplotlib import pyplot as plt\n",
        "from sklearn.metrics import confusion_matrix\n",
        "\n",
        "\n",
        "#Q1\n",
        "\n",
        "# Reshape x_train, x_test\n",
        "x_train = x_train.reshape(x_train.shape[0], 784)\n",
        "x_test = x_test.reshape(x_test.shape[0], 784)\n",
        "\n",
        "# Define Bernouli model\n",
        "clf = BernoulliNB(binarize=0)\n",
        "clf.fit(x_train, y_train) #Fit the model\n",
        "feature_log_probs = clf.feature_log_prob_\n",
        "feature_log_probs_exp = np.exp(feature_log_probs) #convert the log probabilities to regular probabilities (which are between 0 to 1)\n",
        "\n",
        "# Generate one sample for each class \n",
        "pyplot.figure(figsize=(10,2))  \n",
        "for i in range(len(feature_log_probs_exp)):\n",
        "  mclass_reshaped = np.reshape(feature_log_probs_exp[i],(28,28)) #reshape back\n",
        "  pyplot.subplot(2,5,i+1)\n",
        "  pyplot.imshow(mclass_reshaped)\n",
        "pyplot.show()\n",
        " \n",
        " "
      ],
      "execution_count": null,
      "outputs": [
        {
          "output_type": "display_data",
          "data": {
            "image/png": "[encoded data removed]",
            "text/plain": [
              "<Figure size 720x144 with 10 Axes>"
            ]
          },
          "metadata": {
            "needs_background": "light"
          }
        }
      ]
    },
    {
      "cell_type": "code",
      "metadata": {
        "colab": {
          "base_uri": "https://localhost:8080/"
        },
        "id": "fqMsK5kspC7E",
        "outputId": "5f6af295-cdf2-4945-a1fc-4ccdc55e0bab"
      },
      "source": [
        "#Q2\n",
        "from sklearn.metrics import accuracy_score\n",
        "# Plot the confusion matrix of the classifier\n",
        "\n",
        "y_pred = clf.predict(x_test) #the predicted classes (classified by the model)\n",
        "conf_mat = confusion_matrix(y_test,y_pred)\n",
        "print(\"The confusion matrix: \\n\", conf_mat)\n",
        "print('\\n Result of accuracy score:', accuracy_score(y_test,y_pred))"
      ],
      "execution_count": null,
      "outputs": [
        {
          "output_type": "stream",
          "name": "stdout",
          "text": [
            "The confusion matrix: \n",
            " [[ 887    0    4    7    2   41   16    1   22    0]\n",
            " [   0 1085   10    5    0    9    6    0   19    1]\n",
            " [  19    8  852   29   17    4   32   14   55    2]\n",
            " [   5   15   34  844    0   13    9   15   49   26]\n",
            " [   2    6    4    0  795    4   21    1   23  126]\n",
            " [  23   12    7  129   30  627   16    8   21   19]\n",
            " [  18   18   15    2   13   35  851    0    6    0]\n",
            " [   1   24   14    4   15    0    0  871   27   72]\n",
            " [  16   23   13   76   17   22    7    6  758   36]\n",
            " [   9   13    5    9   74    8    0   24   24  843]]\n",
            "\n",
            " Result of accuracy score: 0.8413\n"
          ]
        }
      ]
    },
    {
      "cell_type": "markdown",
      "metadata": {
        "id": "N5yHe4mWqH42"
      },
      "source": [
        "#### Answer 2\n",
        "\n",
        "2.\n",
        "** Summarize of the confusion matrix:**\n",
        "\n",
        "The values on the diagonal of the matrix represent the true classified classes - for each class it represent the amount of samples which were classified to the true label of the class, for example - 1085 samples were classified correctly to class 1, and their label was truely class 1.\n",
        "We can see that the values on the diagonal are pretty high, this insight indicates a good perfoemance of the model.\n",
        "As explained in the documentation of the confusion matrix function, the rows represent the true label of the classes and the columns represent the model classifcations. For example, We can see that 76 samples were classified to class 3 even though their true label is class 8, and also that 49 samples were classified to class 8 and their true label is class 3. This insight makes sense since 8 and 3 can be written in a pretty similar way.\n",
        "\n",
        "In addition to that, we can see that the accuracy score of our model is 0.8413. this value is pretty high and it indicates of good performances of the model.\n",
        "\n",
        "\n",
        "3.\n",
        "In order to find the optimal treshold for the binarization we would iterate over different tresholds and run the model on different training groups, then take a look at the results and choose the treshold that gave the best results.\n",
        "\n"
      ]
    },
    {
      "cell_type": "markdown",
      "metadata": {
        "id": "lKSgnectrTJ1"
      },
      "source": [
        "## 2. Classifing Text Documents using Multinomial Naive Bayes\n",
        "In this exercise you will classify the \"20 newsgroups\" data set using your own naive bayes classifier and compare to the scikit learn built in version.\n",
        "\n",
        "The 20 newsgroups dataset comprises around 18000 newsgroups `posts on 20 topics split in two subsets: one for training (or development) and the other one for testing (or for performance evaluation). The split between the train and test set is based upon messages posted before and after a specific date.\n",
        "\n",
        "### You task\n",
        "Implement the barebone class provided: `NaiveBayes(BaseEstimator, ClassifierMixin)` and implement its `fit`, `predict` and `predict_proba` methods.\n",
        "\n",
        "Then follow next anlysis guidlinnes using the implemented class for train and test classifier:\n",
        "* Load the **train** data using `from sklearn.datasets import fetch_20newsgroups`. remove headers, footers and quotes (see documentation)\n",
        "* Use `sklearn.feature_extraction.text import CountVectorizer` to count words (stop_words='english')\n",
        "* use `sklearn.pipeline.make_pipeline` to chain the vectroizer and model.\n",
        "* note: limit the vocuabolary size if you suffer memory issues\n",
        "* compare the accuracy over the **test** data. You can use `accuracy_score, classification_report`\n",
        "* compare to the built in `sklearn.naive_bayes.MultinomialNB`\n",
        "* compare to `TfidfVectorizer` preprocessing (you can use the built in model for doing the analysis)\n",
        "* plot the learning curve - is the model in the bias or variance regime (you can use the built in model for doing the analysis)\n",
        "* optimize performance in respect to vectorizer hyper parameters (e.g. max_features, max_df etc.).\n"
      ]
    },
    {
      "cell_type": "code",
      "metadata": {
        "id": "FEbVc4Ixxe6L"
      },
      "source": [
        "from sklearn.datasets import fetch_20newsgroups\n",
        "from sklearn.base import BaseEstimator\n",
        "from sklearn.base import ClassifierMixin\n",
        "import numpy as np\n",
        "import math\n",
        "\n",
        "# Implementation of NaiveBayes methods: fit, predict and predict_proba\n",
        "\n",
        "class NaiveBayes(BaseEstimator, ClassifierMixin):\n",
        "  '''\n",
        "  BaseEstimator and ClassifierMixin are imported from sklearn.base\n",
        "  '''\n",
        "  likelihoods = 0\n",
        "  priors = 0\n",
        "  \n",
        "  def fit(self, x, y):\n",
        "    # Calculating the priors\n",
        "    x = x.toarray()\n",
        "    self.priors = [0 for i in range(20)]\n",
        "    n = len(y) #amount of labels (documents)\n",
        "    for label in y:\n",
        "      self.priors[label] += 1\n",
        "    for c in self.priors:\n",
        "      c = c/n\n",
        "    # calculating p(w|cj)\n",
        "    documents_amount = x.shape[0]\n",
        "    features_amount = x.shape[1]\n",
        "    self.likelihoods = [[0 for i in range(20)] for j in range(features_amount)]\n",
        "    classes_count = [0 for i in range(20)] #counts the total amount of words in documents for each class \n",
        "    for doc in range(documents_amount): #iterating through each document  \n",
        "      label = y[doc]\n",
        "      for word in range(features_amount):\n",
        "        if x[doc][word]>0: \n",
        "          self.likelihoods[word][label] += x[doc][word]\n",
        "          classes_count[label] += x[doc][word]\n",
        "    for r in range(len(self.likelihoods)):\n",
        "      for c in range(len(self.likelihoods[r])):\n",
        "        self.likelihoods[r][c] = (self.likelihoods[r][c] + 0.001) / (classes_count[c] + features_amount + 1)\n",
        "\n",
        "\n",
        "  def predict_log_proba(self, x):\n",
        "    x = x.toarray()\n",
        "    docs = [] #each entry in the list represents a document and each document has 20 cells contain the log probability for each label \n",
        "    for doc in x:\n",
        "      doc_classes = [math.log(self.priors[i]) for i in range(20)] \n",
        "      for w in range(len(doc)):\n",
        "        if doc[w] > 0:\n",
        "          for i in range(20):\n",
        "            if (self.likelihoods[w][i]) >0:\n",
        "              doc_classes[i] += doc[w]*math.log(self.likelihoods[w][i])\n",
        "      docs.append(doc_classes)\n",
        "    return docs\n",
        "\n",
        "      \n",
        "  def predict(self, x):\n",
        "    docs = self.predict_log_proba(x)\n",
        "    return [np.argmax(doc) for doc in docs]\n",
        "    \n",
        "\n",
        " "
      ],
      "execution_count": null,
      "outputs": []
    },
    {
      "cell_type": "code",
      "metadata": {
        "id": "oktmb0SH6onp"
      },
      "source": [
        "# Load 'fetch_20newsgroups' data set\n",
        "\n",
        "from sklearn.datasets import fetch_20newsgroups\n",
        "from sklearn.pipeline import make_pipeline\n",
        "\n",
        "newsgroups_train = fetch_20newsgroups(subset = \"train\", remove = ('headers', 'footers', 'quotes'))\n",
        "newsgroups_test = fetch_20newsgroups(subset = \"test\", remove = ('headers', 'footers', 'quotes'))\n",
        "\n",
        "x_train = newsgroups_train.data\n",
        "y_train = newsgroups_train.target\n",
        "x_test = newsgroups_test.data\n",
        "y_test = newsgroups_test.target\n",
        "\n"
      ],
      "execution_count": null,
      "outputs": []
    },
    {
      "cell_type": "code",
      "metadata": {
        "id": "ZO5cT5v2vnmQ"
      },
      "source": [
        "from sklearn.feature_extraction.text import CountVectorizer\n",
        "\n",
        "# Bag of words - Define CountVectorizer\n",
        "\n",
        "cnt_vec = CountVectorizer(stop_words= \"english\", max_features = 1000)\n"
      ],
      "execution_count": null,
      "outputs": []
    },
    {
      "cell_type": "code",
      "metadata": {
        "id": "Ecc97ws9v2vh"
      },
      "source": [
        "from sklearn.pipeline import make_pipeline\n",
        "\n",
        "# Chain the vectorizer and the model by using Pipeline\n",
        "\n",
        "pipeline = make_pipeline(cnt_vec, NaiveBayes())\n"
      ],
      "execution_count": null,
      "outputs": []
    },
    {
      "cell_type": "code",
      "metadata": {
        "id": "sYVZi8KnwGkp"
      },
      "source": [
        "# Activate the model and predict it over the test data\n",
        "\n",
        "pipeline.fit(x_train, y_train)\n",
        "\n",
        "y_predicted = pipeline.predict(x_test)"
      ],
      "execution_count": null,
      "outputs": []
    },
    {
      "cell_type": "code",
      "metadata": {
        "colab": {
          "base_uri": "https://localhost:8080/"
        },
        "id": "8TCWPkTr3eD7",
        "outputId": "d3fdce8e-64df-4a78-82e9-388ce7348cc6"
      },
      "source": [
        "from sklearn.metrics import classification_report, confusion_matrix, accuracy_score\n",
        "\n",
        "# Compare the accuracy over the test data \n",
        "\n",
        "print(\"Classification report: \\n \\n\" , classification_report(list(y_test), y_predicted))\n",
        "print(\"Accuracy score:\" , accuracy_score(list(y_test), y_predicted))"
      ],
      "execution_count": null,
      "outputs": [
        {
          "output_type": "stream",
          "name": "stdout",
          "text": [
            "Classification report: \n",
            " \n",
            "               precision    recall  f1-score   support\n",
            "\n",
            "           0       0.29      0.38      0.33       319\n",
            "           1       0.44      0.57      0.50       389\n",
            "           2       0.50      0.00      0.01       394\n",
            "           3       0.41      0.48      0.44       392\n",
            "           4       0.43      0.47      0.45       385\n",
            "           5       0.59      0.58      0.58       395\n",
            "           6       0.75      0.69      0.72       390\n",
            "           7       0.48      0.52      0.50       396\n",
            "           8       0.46      0.51      0.48       398\n",
            "           9       0.50      0.52      0.51       397\n",
            "          10       0.35      0.46      0.39       399\n",
            "          11       0.70      0.58      0.64       396\n",
            "          12       0.38      0.39      0.38       393\n",
            "          13       0.44      0.47      0.45       396\n",
            "          14       0.64      0.51      0.56       394\n",
            "          15       0.46      0.61      0.53       398\n",
            "          16       0.43      0.45      0.44       364\n",
            "          17       0.58      0.56      0.57       376\n",
            "          18       0.30      0.26      0.28       310\n",
            "          19       0.19      0.12      0.15       251\n",
            "\n",
            "    accuracy                           0.47      7532\n",
            "   macro avg       0.47      0.46      0.45      7532\n",
            "weighted avg       0.47      0.47      0.45      7532\n",
            "\n",
            "Accuracy score: 0.46587891662241104\n"
          ]
        }
      ]
    },
    {
      "cell_type": "markdown",
      "metadata": {
        "id": "p85Q5n77xQEK"
      },
      "source": [
        "We can see that the accuracy score is about 0.465.\n",
        "The accuracy score is a a computation of the number of correct predictions out of the total number of predictions, so it means that almost 50% of the predictions of our model were classified to their true label."
      ]
    },
    {
      "cell_type": "code",
      "metadata": {
        "colab": {
          "base_uri": "https://localhost:8080/"
        },
        "id": "kL7y6e9r-aqR",
        "outputId": "ebdc5d52-8b71-41ef-c557-c45af1446cf9"
      },
      "source": [
        "# Compare our model to sklearn.naive_bayes.MultinomialNB\n",
        "\n",
        "from sklearn.naive_bayes import MultinomialNB\n",
        "\n",
        "multiNB_pipeline = make_pipeline(cnt_vec, MultinomialNB())\n",
        "multiNB_pipeline.fit(x_train, y_train)\n",
        "multiNB_y_predicted = multiNB_pipeline.predict(x_test)\n",
        "\n",
        "\n",
        "print(\"Classification report for the built-in Multinomial NB: \\n:\" , classification_report(list(y_test), list(multiNB_y_predicted)))\n",
        "\n",
        "\n"
      ],
      "execution_count": null,
      "outputs": [
        {
          "output_type": "stream",
          "name": "stdout",
          "text": [
            "Classification report for the built-in Multinomial NB: \n",
            ":               precision    recall  f1-score   support\n",
            "\n",
            "           0       0.29      0.42      0.34       319\n",
            "           1       0.44      0.57      0.50       389\n",
            "           2       0.00      0.00      0.00       394\n",
            "           3       0.40      0.47      0.43       392\n",
            "           4       0.43      0.50      0.46       385\n",
            "           5       0.60      0.56      0.58       395\n",
            "           6       0.75      0.70      0.73       390\n",
            "           7       0.48      0.56      0.52       396\n",
            "           8       0.41      0.53      0.46       398\n",
            "           9       0.48      0.58      0.53       397\n",
            "          10       0.31      0.37      0.34       399\n",
            "          11       0.74      0.55      0.63       396\n",
            "          12       0.38      0.40      0.39       393\n",
            "          13       0.46      0.46      0.46       396\n",
            "          14       0.69      0.47      0.56       394\n",
            "          15       0.49      0.58      0.53       398\n",
            "          16       0.45      0.44      0.44       364\n",
            "          17       0.60      0.55      0.58       376\n",
            "          18       0.30      0.25      0.27       310\n",
            "          19       0.18      0.14      0.16       251\n",
            "\n",
            "    accuracy                           0.46      7532\n",
            "   macro avg       0.44      0.46      0.45      7532\n",
            "weighted avg       0.45      0.46      0.45      7532\n",
            "\n"
          ]
        },
        {
          "output_type": "stream",
          "name": "stderr",
          "text": [
            "/usr/local/lib/python3.7/dist-packages/sklearn/metrics/_classification.py:1308: UndefinedMetricWarning: Precision and F-score are ill-defined and being set to 0.0 in labels with no predicted samples. Use `zero_division` parameter to control this behavior.\n",
            "  _warn_prf(average, modifier, msg_start, len(result))\n",
            "/usr/local/lib/python3.7/dist-packages/sklearn/metrics/_classification.py:1308: UndefinedMetricWarning: Precision and F-score are ill-defined and being set to 0.0 in labels with no predicted samples. Use `zero_division` parameter to control this behavior.\n",
            "  _warn_prf(average, modifier, msg_start, len(result))\n",
            "/usr/local/lib/python3.7/dist-packages/sklearn/metrics/_classification.py:1308: UndefinedMetricWarning: Precision and F-score are ill-defined and being set to 0.0 in labels with no predicted samples. Use `zero_division` parameter to control this behavior.\n",
            "  _warn_prf(average, modifier, msg_start, len(result))\n"
          ]
        }
      ]
    },
    {
      "cell_type": "code",
      "metadata": {
        "colab": {
          "base_uri": "https://localhost:8080/"
        },
        "id": "gZqnFeko1T4G",
        "outputId": "477d4cac-172a-4bc2-e107-b9061bcdbac0"
      },
      "source": [
        "print(\"Our model accuracy score:\", accuracy_score(list(y_test), y_predicted))\n",
        "print(\"Built-in MultinomialNB model accuracy score:\", accuracy_score(list(y_test), multiNB_y_predicted))"
      ],
      "execution_count": null,
      "outputs": [
        {
          "output_type": "stream",
          "name": "stdout",
          "text": [
            "Our model accuracy score: 0.46587891662241104\n",
            "Built-in MultinomialNB model accuracy score: 0.4638874137015401\n"
          ]
        }
      ]
    },
    {
      "cell_type": "markdown",
      "metadata": {
        "id": "2mQm6oJn3nv4"
      },
      "source": [
        "We can see that our model accuracy score is very similar to the built-in sklearn model for MultinomialNB and even a bit higher (the difference between out accuracy to their accuracy is about 0.001983), which means that our model achieved good perfomances similar to the built-in model perfomances. "
      ]
    },
    {
      "cell_type": "markdown",
      "metadata": {
        "id": "psqGJjpl5AU4"
      },
      "source": [
        "CountVectorizer allows us to use the occurrence of words (bag of words) but it has a disadvantage with long documents.\n",
        "longer documents might have higher average count values than shorter documents even if they talk about same topics. \n",
        "So in order to check that we will try to use the tf-idf Vectorizer for downscaling the occurances of words in the document."
      ]
    },
    {
      "cell_type": "code",
      "metadata": {
        "colab": {
          "base_uri": "https://localhost:8080/"
        },
        "id": "xGpcIoL2CFmE",
        "outputId": "d95ee97b-21b2-4a25-c3f3-d2b2f9ed2591"
      },
      "source": [
        "from sklearn.metrics import classification_report, confusion_matrix, accuracy_score\n",
        "from sklearn.feature_extraction.text import TfidfVectorizer\n",
        "\n",
        "\n",
        "# Compare between CountVectorizer to tfidfVectorizer\n",
        "\n",
        "Countvec_pipeline = make_pipeline(cnt_vec, MultinomialNB())\n",
        "multiNB_pipeline.fit(x_train, y_train)\n",
        "multiNB_y_predicted = multiNB_pipeline.predict(x_test)\n",
        "\n",
        "#CountVectroizer\n",
        "\n",
        "\n",
        "print(\"CountVectorizer Preprocessing:\")\n",
        "print(classification_report(list(y_test), multiNB_y_predicted))\n",
        "\n",
        "\n",
        "#TfidfVectorizer \n",
        "\n",
        "\n",
        "tfIdfVec =  TfidfVectorizer(stop_words= \"english\", max_features = 1000)\n",
        "tfIdfVec_pipeline = make_pipeline(tfIdfVec, MultinomialNB())\n",
        "tfIdfVec_pipeline.fit(x_train, y_train)\n",
        "tfIdfVec_y_predicted = tfIdfVec_pipeline.predict(x_test)\n",
        "\n",
        "\n",
        "print(\"\\ntfidfVectorizer Preprocessing:\")\n",
        "print(classification_report(list(y_test), tfIdfVec_y_predicted))\n",
        "\n",
        "\n",
        "\n"
      ],
      "execution_count": null,
      "outputs": [
        {
          "output_type": "stream",
          "name": "stdout",
          "text": [
            "CountVectorizer Preprocessing:\n",
            "              precision    recall  f1-score   support\n",
            "\n",
            "           0       0.29      0.42      0.34       319\n",
            "           1       0.44      0.57      0.50       389\n",
            "           2       0.00      0.00      0.00       394\n",
            "           3       0.40      0.47      0.43       392\n",
            "           4       0.43      0.50      0.46       385\n",
            "           5       0.60      0.56      0.58       395\n",
            "           6       0.75      0.70      0.73       390\n",
            "           7       0.48      0.56      0.52       396\n",
            "           8       0.41      0.53      0.46       398\n",
            "           9       0.48      0.58      0.53       397\n",
            "          10       0.31      0.37      0.34       399\n",
            "          11       0.74      0.55      0.63       396\n",
            "          12       0.38      0.40      0.39       393\n",
            "          13       0.46      0.46      0.46       396\n",
            "          14       0.69      0.47      0.56       394\n",
            "          15       0.49      0.58      0.53       398\n",
            "          16       0.45      0.44      0.44       364\n",
            "          17       0.60      0.55      0.58       376\n",
            "          18       0.30      0.25      0.27       310\n",
            "          19       0.18      0.14      0.16       251\n",
            "\n",
            "    accuracy                           0.46      7532\n",
            "   macro avg       0.44      0.46      0.45      7532\n",
            "weighted avg       0.45      0.46      0.45      7532\n",
            "\n"
          ]
        },
        {
          "output_type": "stream",
          "name": "stderr",
          "text": [
            "/usr/local/lib/python3.7/dist-packages/sklearn/metrics/_classification.py:1308: UndefinedMetricWarning: Precision and F-score are ill-defined and being set to 0.0 in labels with no predicted samples. Use `zero_division` parameter to control this behavior.\n",
            "  _warn_prf(average, modifier, msg_start, len(result))\n",
            "/usr/local/lib/python3.7/dist-packages/sklearn/metrics/_classification.py:1308: UndefinedMetricWarning: Precision and F-score are ill-defined and being set to 0.0 in labels with no predicted samples. Use `zero_division` parameter to control this behavior.\n",
            "  _warn_prf(average, modifier, msg_start, len(result))\n",
            "/usr/local/lib/python3.7/dist-packages/sklearn/metrics/_classification.py:1308: UndefinedMetricWarning: Precision and F-score are ill-defined and being set to 0.0 in labels with no predicted samples. Use `zero_division` parameter to control this behavior.\n",
            "  _warn_prf(average, modifier, msg_start, len(result))\n"
          ]
        },
        {
          "output_type": "stream",
          "name": "stdout",
          "text": [
            "\n",
            "tfidfVectorizer Preprocessing:\n",
            "              precision    recall  f1-score   support\n",
            "\n",
            "           0       0.34      0.33      0.33       319\n",
            "           1       0.51      0.57      0.54       389\n",
            "           2       0.53      0.55      0.54       394\n",
            "           3       0.46      0.46      0.46       392\n",
            "           4       0.56      0.49      0.52       385\n",
            "           5       0.62      0.62      0.62       395\n",
            "           6       0.69      0.75      0.72       390\n",
            "           7       0.59      0.55      0.57       396\n",
            "           8       0.55      0.50      0.53       398\n",
            "           9       0.53      0.53      0.53       397\n",
            "          10       0.40      0.68      0.50       399\n",
            "          11       0.73      0.58      0.65       396\n",
            "          12       0.45      0.36      0.40       393\n",
            "          13       0.48      0.58      0.52       396\n",
            "          14       0.66      0.54      0.59       394\n",
            "          15       0.45      0.76      0.56       398\n",
            "          16       0.45      0.52      0.48       364\n",
            "          17       0.70      0.62      0.66       376\n",
            "          18       0.47      0.25      0.32       310\n",
            "          19       0.43      0.01      0.02       251\n",
            "\n",
            "    accuracy                           0.53      7532\n",
            "   macro avg       0.53      0.51      0.50      7532\n",
            "weighted avg       0.53      0.53      0.52      7532\n",
            "\n"
          ]
        }
      ]
    },
    {
      "cell_type": "code",
      "metadata": {
        "colab": {
          "base_uri": "https://localhost:8080/"
        },
        "id": "nCh6NYIF53Dv",
        "outputId": "f4d3754f-17cf-47fa-9973-f8b3864737c7"
      },
      "source": [
        "# Compare the accuracy score between tfIDFVectorizer to CountVectorizer (in the built-in model)\n",
        "\n",
        "print(\"Built-in model accuracy with countVectorizer preprocessing:\", accuracy_score(list(y_test), multiNB_y_predicted))\n",
        "print(\"Built-in model accuracy with tfIidfVectorizer preprocessing:\",accuracy_score(list(y_test), tfIdfVec_y_predicted))\n",
        "\n"
      ],
      "execution_count": null,
      "outputs": [
        {
          "output_type": "stream",
          "name": "stdout",
          "text": [
            "Built-in model accuracy with countVectorizer preprocessing: 0.4638874137015401\n",
            "Built-in model accuracy with tfIidfVectorizer preprocessing: 0.5262878385554965\n"
          ]
        }
      ]
    },
    {
      "cell_type": "markdown",
      "metadata": {
        "id": "0c4Z2zuA6rhO"
      },
      "source": [
        "We can see that the accuracy for the built-in model with the tfidfVectorizer preprocessing is higher than the accuracy for the countVectorizer, this insight makes sense as we explained earlier."
      ]
    },
    {
      "cell_type": "code",
      "metadata": {
        "id": "-SAGWLfONZBk"
      },
      "source": [
        "# Plot the learning curve on the buit-in Multinomial NB\n",
        "\n",
        "import numpy as np\n",
        "import matplotlib.pyplot as plt\n",
        "from sklearn.naive_bayes import GaussianNB\n",
        "from sklearn.svm import SVC\n",
        "from sklearn.datasets import load_digits\n",
        "from sklearn.model_selection import learning_curve\n",
        "from sklearn.model_selection import ShuffleSplit\n",
        "\n",
        "\n",
        "def plot_learning_curve(\n",
        "    estimator,\n",
        "    title,\n",
        "    X,\n",
        "    y,\n",
        "    axes=None,\n",
        "    ylim=None,\n",
        "    cv=None,\n",
        "    n_jobs=None,\n",
        "    train_sizes=np.linspace(0.1, 1.0, 5),\n",
        "):\n",
        "    \"\"\"\n",
        "    Generate 3 plots: the test and training learning curve, the training\n",
        "    samples vs fit times curve, the fit times vs score curve.\n",
        "\n",
        "    Parameters\n",
        "    ----------\n",
        "    estimator : estimator instance\n",
        "        An estimator instance implementing `fit` and `predict` methods which\n",
        "        will be cloned for each validation.\n",
        "\n",
        "    title : str\n",
        "        Title for the chart.\n",
        "\n",
        "    X : array-like of shape (n_samples, n_features)\n",
        "        Training vector, where ``n_samples`` is the number of samples and\n",
        "        ``n_features`` is the number of features.\n",
        "\n",
        "    y : array-like of shape (n_samples) or (n_samples, n_features)\n",
        "        Target relative to ``X`` for classification or regression;\n",
        "        None for unsupervised learning.\n",
        "\n",
        "    axes : array-like of shape (3,), default=None\n",
        "        Axes to use for plotting the curves.\n",
        "\n",
        "    ylim : tuple of shape (2,), default=None\n",
        "        Defines minimum and maximum y-values plotted, e.g. (ymin, ymax).\n",
        "\n",
        "    cv : int, cross-validation generator or an iterable, default=None\n",
        "        Determines the cross-validation splitting strategy.\n",
        "        Possible inputs for cv are:\n",
        "\n",
        "          - None, to use the default 5-fold cross-validation,\n",
        "          - integer, to specify the number of folds.\n",
        "          - :term:`CV splitter`,\n",
        "          - An iterable yielding (train, test) splits as arrays of indices.\n",
        "\n",
        "        For integer/None inputs, if ``y`` is binary or multiclass,\n",
        "        :class:`StratifiedKFold` used. If the estimator is not a classifier\n",
        "        or if ``y`` is neither binary nor multiclass, :class:`KFold` is used.\n",
        "\n",
        "        Refer :ref:`User Guide <cross_validation>` for the various\n",
        "        cross-validators that can be used here.\n",
        "\n",
        "    n_jobs : int or None, default=None\n",
        "        Number of jobs to run in parallel.\n",
        "        ``None`` means 1 unless in a :obj:`joblib.parallel_backend` context.\n",
        "        ``-1`` means using all processors. See :term:`Glossary <n_jobs>`\n",
        "        for more details.\n",
        "\n",
        "    train_sizes : array-like of shape (n_ticks,)\n",
        "        Relative or absolute numbers of training examples that will be used to\n",
        "        generate the learning curve. If the ``dtype`` is float, it is regarded\n",
        "        as a fraction of the maximum size of the training set (that is\n",
        "        determined by the selected validation method), i.e. it has to be within\n",
        "        (0, 1]. Otherwise it is interpreted as absolute sizes of the training\n",
        "        sets. Note that for classification the number of samples usually have\n",
        "        to be big enough to contain at least one sample from each class.\n",
        "        (default: np.linspace(0.1, 1.0, 5))\n",
        "    \"\"\"\n",
        "    if axes is None:\n",
        "        _, axes = plt.subplots(1, 3, figsize=(20, 5))\n",
        "\n",
        "    axes[0].set_title(title)\n",
        "    if ylim is not None:\n",
        "        axes[0].set_ylim(*ylim)\n",
        "    axes[0].set_xlabel(\"Training examples\")\n",
        "    axes[0].set_ylabel(\"Score\")\n",
        "\n",
        "    train_sizes, train_scores, test_scores, fit_times, _ = learning_curve(\n",
        "        estimator,\n",
        "        X,\n",
        "        y,\n",
        "        cv=cv,\n",
        "        n_jobs=n_jobs,\n",
        "        train_sizes=train_sizes,\n",
        "        return_times=True,\n",
        "    )\n",
        "    train_scores_mean = np.mean(train_scores, axis=1)\n",
        "    train_scores_std = np.std(train_scores, axis=1)\n",
        "    test_scores_mean = np.mean(test_scores, axis=1)\n",
        "    test_scores_std = np.std(test_scores, axis=1)\n",
        "    fit_times_mean = np.mean(fit_times, axis=1)\n",
        "    fit_times_std = np.std(fit_times, axis=1)\n",
        "\n",
        "    # Plot learning curve\n",
        "    axes[0].grid()\n",
        "    axes[0].fill_between(\n",
        "        train_sizes,\n",
        "        train_scores_mean - train_scores_std,\n",
        "        train_scores_mean + train_scores_std,\n",
        "        alpha=0.1,\n",
        "        color=\"r\",\n",
        "    )\n",
        "    axes[0].fill_between(\n",
        "        train_sizes,\n",
        "        test_scores_mean - test_scores_std,\n",
        "        test_scores_mean + test_scores_std,\n",
        "        alpha=0.1,\n",
        "        color=\"g\",\n",
        "    )\n",
        "    axes[0].plot(\n",
        "        train_sizes, train_scores_mean, \"o-\", color=\"r\", label=\"Training score\"\n",
        "    )\n",
        "    axes[0].plot(\n",
        "        train_sizes, test_scores_mean, \"o-\", color=\"g\", label=\"Cross-validation score\"\n",
        "    )\n",
        "    axes[0].legend(loc=\"best\")\n",
        "\n",
        "    # Plot n_samples vs fit_times\n",
        "    axes[1].grid()\n",
        "    axes[1].plot(train_sizes, fit_times_mean, \"o-\")\n",
        "    axes[1].fill_between(\n",
        "        train_sizes,\n",
        "        fit_times_mean - fit_times_std,\n",
        "        fit_times_mean + fit_times_std,\n",
        "        alpha=0.1,\n",
        "    )\n",
        "    axes[1].set_xlabel(\"Training examples\")\n",
        "    axes[1].set_ylabel(\"fit_times\")\n",
        "    axes[1].set_title(\"Scalability of the model\")\n",
        "\n",
        "    # Plot fit_time vs score\n",
        "    axes[2].grid()\n",
        "    axes[2].plot(fit_times_mean, test_scores_mean, \"o-\")\n",
        "    axes[2].fill_between(\n",
        "        fit_times_mean,\n",
        "        test_scores_mean - test_scores_std,\n",
        "        test_scores_mean + test_scores_std,\n",
        "        alpha=0.1,\n",
        "    )\n",
        "    axes[2].set_xlabel(\"fit_times\")\n",
        "    axes[2].set_ylabel(\"Score\")\n",
        "    axes[2].set_title(\"Performance of the model\")\n",
        "\n",
        "    return plt\n"
      ],
      "execution_count": null,
      "outputs": []
    },
    {
      "cell_type": "code",
      "metadata": {
        "colab": {
          "base_uri": "https://localhost:8080/",
          "height": 351
        },
        "id": "5cxGr9ZiNeey",
        "outputId": "19a58ca3-9016-4c99-98e7-afd5c86557b3"
      },
      "source": [
        "\n",
        "# Plot the learning curve on the buit-in Multinomial NB\n",
        "\n",
        "vec = CountVectorizer(stop_words = \"english\")\n",
        "X = vec.fit_transform(x_train)\n",
        "y = y_train\n",
        "\n",
        "title = \"Learning Curves (Naive Bayes)\"\n",
        "# Cross validation with 100 iterations to get smoother mean test and train\n",
        "# score curves, each time with 20% data randomly selected as a validation set.\n",
        "cv = ShuffleSplit(n_splits=100, test_size=0.2, random_state=0)\n",
        "\n",
        "estimator = MultinomialNB()\n",
        "plot_learning_curve(\n",
        "    estimator, title, X, y, ylim = None, cv= cv, n_jobs = 4)\n",
        "\n",
        "plt.show()\n"
      ],
      "execution_count": null,
      "outputs": [
        {
          "output_type": "display_data",
          "data": {
            "image/png": "[encoded data removed]",
            "text/plain": [
              "<Figure size 1440x360 with 3 Axes>"
            ]
          },
          "metadata": {
            "needs_background": "light"
          }
        }
      ]
    },
    {
      "cell_type": "markdown",
      "metadata": {
        "id": "Lbl4JsJIHXMo"
      },
      "source": [
        "It can be seen that there is a noticeable gap between the training score and the cross-validaion score, this insight means that the performance of the model better on the training set than on the test set. It might indicate that the model tends to be over-fitting. "
      ]
    },
    {
      "cell_type": "code",
      "metadata": {
        "id": "H5rKgwuplM_J"
      },
      "source": [
        "!pip install english_words"
      ],
      "execution_count": null,
      "outputs": []
    },
    {
      "cell_type": "markdown",
      "metadata": {
        "id": "d1S_v22_vDCs"
      },
      "source": [
        "\n",
        "### Bonus I (5 points)\n",
        "#### Model interpretability\n",
        "Find the most important features for a **specific** decision of a NB classifier.\n",
        "Because the model has learned the prior $p(x_i|c)$ during the training, the contribution of an individual feature value can be easily measured by the posterior, $p(c|x_i)=p(c)p(x_i|c)/p(x_i)$\n",
        "Implement a function which gets a scikit-learn NB model as input and returns $P(c|x_i)$:\n",
        "\n",
        "`def calc_p_c_given_xi(model)`\n",
        "\n",
        "Hint: Use the following model properties:\n",
        "\n",
        "* `model.class_log_prior_`\n",
        "* `model.feature_log_prob_`\n",
        "\n",
        "Note: remember these are logs and you need to use np.exp and normalize to get $P(c|x_i)$ \n",
        "Another hint: use numpy built-in broadcasting property.\n",
        "\n",
        "* Use the interpretation to examine errors of the classifier where $\\hat{c}\\ne c$. Which top words support the correct class and which support the wrong class? You can use the `print_txt` below to color words."
      ]
    },
    {
      "cell_type": "code",
      "metadata": {
        "id": "WrTOhkHV9msW"
      },
      "source": [
        "import string\n",
        "def print_txt(txt, hot, cold):\n",
        "  \"\"\"\n",
        "  print the text, coloring hot and cold words with colors\n",
        "  \"\"\"\n",
        "  cold_color='\\x1b[41;37m{}\\x1b[0m'\n",
        "  hot_color='\\x1b[42;37m{}\\x1b[0m'\n",
        "  def color(token):\n",
        "    lower = str(token).lower()\n",
        "    lower = lower.replace('\\t','').replace('\\n','')\n",
        "    lower = lower.translate(string.punctuation)\n",
        "    if (lower in hot) and (lower in cold):\n",
        "      return mid_color.format(token)\n",
        "    elif lower in hot:\n",
        "      return hot_color.format(token)\n",
        "    elif lower in cold:\n",
        "      return cold_color.format(token)\n",
        "    else:\n",
        "      return token\n",
        "  colored_txt = \" \".join([color(token) for token in txt.split(' ')])\n",
        "  print(colored_txt)\n",
        "print_txt('This word support the first class but this the other', ['word'],['other'])"
      ],
      "execution_count": null,
      "outputs": []
    },
    {
      "cell_type": "markdown",
      "metadata": {
        "id": "kww6g1jGv_Fw"
      },
      "source": [
        "### Bonus II (5 points)\n",
        "#### How can you correct the analyzed error?\n",
        "\n",
        "To read more about model interpretation, see the blogpost below and the tutorial:\n",
        "* https://lilianweng.github.io/lil-log/2017/08/01/how-to-explain-the-prediction-of-a-machine-learning-model.html\n",
        "* https://github.com/chanansh/right_but_why"
      ]
    },
    {
      "cell_type": "markdown",
      "metadata": {
        "id": "K4QrAGdiwD6f"
      },
      "source": [
        "In order to correct analyzed error in models we can use model interpretation, there are few ways to do that-\n",
        "1. Features - checking if the model features model are good might help to get better results for the model. Sometimes models errors might be caused by \"poor\" features. Checking the contribution of each feature of the model to our model (for example by calculating postpriors) and removing the \"bad\" features can help us to achieve better results for the model. Sometimes selection of the data attributes that best characterize a predicted variable is helpful.\n",
        "2. Select the right model - Sometimes the chosen models are not working in an efficient way with the given data, if we choose different models that is better for the given data we can achieve better results. \n",
        "3.  The data - sometimes it is useful to collect more data if it's possible, complete missing values in the dataset (for example null values), another way is to delete outlier values (since they might affect the learning but not necessarily represent the data well).\n"
      ]
    }
  ]
}